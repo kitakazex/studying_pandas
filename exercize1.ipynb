{
 "cells": [
  {
   "cell_type": "code",
   "execution_count": 5,
   "metadata": {},
   "outputs": [],
   "source": [
    "import pandas as pd\n",
    "import numpy as np\n"
   ]
  },
  {
   "cell_type": "code",
   "execution_count": 7,
   "metadata": {},
   "outputs": [],
   "source": [
    "file_path='物語目録.xlsx'\n",
    "df=pd.read_excel(file_path,sheet_name=None)\n",
    "_df=pd.DataFrame()\n",
    "for i in df:\n",
    "    _df=pd.concat([_df,df[i]])\n",
    "index=np.arange(len(_df))+1\n",
    "_df.index=index\n"
   ]
  },
  {
   "cell_type": "markdown",
   "metadata": {},
   "source": [
    "### Excelファイルに保存"
   ]
  },
  {
   "cell_type": "code",
   "execution_count": 10,
   "metadata": {},
   "outputs": [],
   "source": [
    "_df.to_excel('物語目録2.xlsx', sheet_name='new_sheet_name')"
   ]
  },
  {
   "cell_type": "markdown",
   "metadata": {},
   "source": [
    "### Excelファイルに保存（既存のブックに新しいシートを追加）"
   ]
  },
  {
   "cell_type": "code",
   "execution_count": 13,
   "metadata": {},
   "outputs": [],
   "source": [
    "with pd.ExcelWriter('物語目録.xlsx',mode='a') as writer:\n",
    "    _df.to_excel(writer,sheet_name='まとめ') "
   ]
  }
 ],
 "metadata": {
  "interpreter": {
   "hash": "8aac197f872cc9080493bb455ea4ba23091899d0e1368981d733b21f15391bb7"
  },
  "kernelspec": {
   "display_name": "Python 3.9.6 64-bit ('exercise-03GeCVaG': pipenv)",
   "name": "python3"
  },
  "language_info": {
   "codemirror_mode": {
    "name": "ipython",
    "version": 3
   },
   "file_extension": ".py",
   "mimetype": "text/x-python",
   "name": "python",
   "nbconvert_exporter": "python",
   "pygments_lexer": "ipython3",
   "version": "3.9.6"
  },
  "orig_nbformat": 4
 },
 "nbformat": 4,
 "nbformat_minor": 2
}
